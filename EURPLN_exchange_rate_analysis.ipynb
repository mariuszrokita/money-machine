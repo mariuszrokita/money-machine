{
 "cells": [
  {
   "cell_type": "markdown",
   "metadata": {},
   "source": [
    "# Currency exchange rate trends analyzer"
   ]
  },
  {
   "cell_type": "markdown",
   "metadata": {},
   "source": [
    "### Trend analysis for EURPLN exchange rates using data from 2013.09.09 to 2016.09.05 time period"
   ]
  },
  {
   "cell_type": "markdown",
   "metadata": {},
   "source": [
    " \n"
   ]
  },
  {
   "cell_type": "code",
   "execution_count": 18,
   "metadata": {
    "collapsed": true
   },
   "outputs": [],
   "source": [
    "# customarilily import most important libraries\n",
    "\n",
    "import pandas as pd                       # pandas is a dataframe library\n",
    "import matplotlib.pyplot as plt           # matplotlib.pyplot plots data\n",
    "import numpy as np                        # numpy provides N-dim object support\n",
    "\n",
    "# do ploting inline instead of in a separate window\n",
    "%matplotlib inline"
   ]
  },
  {
   "cell_type": "code",
   "execution_count": 19,
   "metadata": {
    "collapsed": false
   },
   "outputs": [],
   "source": [
    "df = pd.read_csv('./data-archive/EUR_2013.09.09_2016.09.05.csv', sep=';')     # load data"
   ]
  },
  {
   "cell_type": "code",
   "execution_count": 20,
   "metadata": {
    "collapsed": false
   },
   "outputs": [
    {
     "name": "stdout",
     "output_type": "stream",
     "text": [
      "File contains 755 rows and 4 columns of data.\n"
     ]
    }
   ],
   "source": [
    "# get brief statistics over data we just read\n",
    "df_columns, df_rows = df.shape\n",
    "\n",
    "print(\"File contains {} rows and {} columns of data.\".format(df_columns, df_rows))"
   ]
  },
  {
   "cell_type": "markdown",
   "metadata": {},
   "source": [
    "#### Show first 5 rows from file"
   ]
  },
  {
   "cell_type": "code",
   "execution_count": 21,
   "metadata": {
    "collapsed": false
   },
   "outputs": [
    {
     "data": {
      "text/html": [
       "<div>\n",
       "<table border=\"1\" class=\"dataframe\">\n",
       "  <thead>\n",
       "    <tr style=\"text-align: right;\">\n",
       "      <th></th>\n",
       "      <th>Data</th>\n",
       "      <th>Kurs</th>\n",
       "      <th>Zmiana</th>\n",
       "      <th>Nazwa Tabeli</th>\n",
       "    </tr>\n",
       "  </thead>\n",
       "  <tbody>\n",
       "    <tr>\n",
       "      <th>0</th>\n",
       "      <td>2016-09-05</td>\n",
       "      <td>4.3480</td>\n",
       "      <td>-0.72</td>\n",
       "      <td>171/A/NBP/2016</td>\n",
       "    </tr>\n",
       "    <tr>\n",
       "      <th>1</th>\n",
       "      <td>2016-09-02</td>\n",
       "      <td>4.3796</td>\n",
       "      <td>0.43</td>\n",
       "      <td>170/A/NBP/2016</td>\n",
       "    </tr>\n",
       "    <tr>\n",
       "      <th>2</th>\n",
       "      <td>2016-09-01</td>\n",
       "      <td>4.3607</td>\n",
       "      <td>0.12</td>\n",
       "      <td>169/A/NBP/2016</td>\n",
       "    </tr>\n",
       "    <tr>\n",
       "      <th>3</th>\n",
       "      <td>2016-08-31</td>\n",
       "      <td>4.3555</td>\n",
       "      <td>0.37</td>\n",
       "      <td>168/A/NBP/2016</td>\n",
       "    </tr>\n",
       "    <tr>\n",
       "      <th>4</th>\n",
       "      <td>2016-08-30</td>\n",
       "      <td>4.3395</td>\n",
       "      <td>0.00</td>\n",
       "      <td>167/A/NBP/2016</td>\n",
       "    </tr>\n",
       "  </tbody>\n",
       "</table>\n",
       "</div>"
      ],
      "text/plain": [
       "         Data    Kurs  Zmiana    Nazwa Tabeli\n",
       "0  2016-09-05  4.3480   -0.72  171/A/NBP/2016\n",
       "1  2016-09-02  4.3796    0.43  170/A/NBP/2016\n",
       "2  2016-09-01  4.3607    0.12  169/A/NBP/2016\n",
       "3  2016-08-31  4.3555    0.37  168/A/NBP/2016\n",
       "4  2016-08-30  4.3395    0.00  167/A/NBP/2016"
      ]
     },
     "execution_count": 21,
     "metadata": {},
     "output_type": "execute_result"
    }
   ],
   "source": [
    "df.head(5)"
   ]
  },
  {
   "cell_type": "markdown",
   "metadata": {},
   "source": [
    "#### Show last 5 rows from file"
   ]
  },
  {
   "cell_type": "code",
   "execution_count": 22,
   "metadata": {
    "collapsed": false
   },
   "outputs": [
    {
     "data": {
      "text/html": [
       "<div>\n",
       "<table border=\"1\" class=\"dataframe\">\n",
       "  <thead>\n",
       "    <tr style=\"text-align: right;\">\n",
       "      <th></th>\n",
       "      <th>Data</th>\n",
       "      <th>Kurs</th>\n",
       "      <th>Zmiana</th>\n",
       "      <th>Nazwa Tabeli</th>\n",
       "    </tr>\n",
       "  </thead>\n",
       "  <tbody>\n",
       "    <tr>\n",
       "      <th>750</th>\n",
       "      <td>2013-09-13</td>\n",
       "      <td>4.2110</td>\n",
       "      <td>-0.30</td>\n",
       "      <td>178/A/NBP/2013</td>\n",
       "    </tr>\n",
       "    <tr>\n",
       "      <th>751</th>\n",
       "      <td>2013-09-12</td>\n",
       "      <td>4.2238</td>\n",
       "      <td>-0.40</td>\n",
       "      <td>177/A/NBP/2013</td>\n",
       "    </tr>\n",
       "    <tr>\n",
       "      <th>752</th>\n",
       "      <td>2013-09-11</td>\n",
       "      <td>4.2408</td>\n",
       "      <td>-0.54</td>\n",
       "      <td>176/A/NBP/2013</td>\n",
       "    </tr>\n",
       "    <tr>\n",
       "      <th>753</th>\n",
       "      <td>2013-09-10</td>\n",
       "      <td>4.2637</td>\n",
       "      <td>-0.15</td>\n",
       "      <td>175/A/NBP/2013</td>\n",
       "    </tr>\n",
       "    <tr>\n",
       "      <th>754</th>\n",
       "      <td>2013-09-09</td>\n",
       "      <td>4.2700</td>\n",
       "      <td>-0.64</td>\n",
       "      <td>174/A/NBP/2013</td>\n",
       "    </tr>\n",
       "  </tbody>\n",
       "</table>\n",
       "</div>"
      ],
      "text/plain": [
       "           Data    Kurs  Zmiana    Nazwa Tabeli\n",
       "750  2013-09-13  4.2110   -0.30  178/A/NBP/2013\n",
       "751  2013-09-12  4.2238   -0.40  177/A/NBP/2013\n",
       "752  2013-09-11  4.2408   -0.54  176/A/NBP/2013\n",
       "753  2013-09-10  4.2637   -0.15  175/A/NBP/2013\n",
       "754  2013-09-09  4.2700   -0.64  174/A/NBP/2013"
      ]
     },
     "execution_count": 22,
     "metadata": {},
     "output_type": "execute_result"
    }
   ],
   "source": [
    "df.tail(5)"
   ]
  },
  {
   "cell_type": "code",
   "execution_count": 23,
   "metadata": {
    "collapsed": false
   },
   "outputs": [
    {
     "data": {
      "text/plain": [
       "[<matplotlib.lines.Line2D at 0x2e0562e9b00>]"
      ]
     },
     "execution_count": 23,
     "metadata": {},
     "output_type": "execute_result"
    },
    {
     "data": {
      "image/png": "[encoded data removed]",
      "text/plain": [
       "<matplotlib.figure.Figure at 0x2e055262198>"
      ]
     },
     "metadata": {},
     "output_type": "display_data"
    }
   ],
   "source": [
    "exchange_rates = df['Kurs'].values\n",
    "plt.plot(exchange_rates)"
   ]
  },
  {
   "cell_type": "code",
   "execution_count": 24,
   "metadata": {
    "collapsed": true
   },
   "outputs": [],
   "source": [
    "# TODO: fix problem - data are not ordered chronologically"
   ]
  }
 ],
 "metadata": {
  "kernelspec": {
   "display_name": "Python 3",
   "language": "python",
   "name": "python3"
  },
  "language_info": {
   "codemirror_mode": {
    "name": "ipython",
    "version": 3
   },
   "file_extension": ".py",
   "mimetype": "text/x-python",
   "name": "python",
   "nbconvert_exporter": "python",
   "pygments_lexer": "ipython3",
   "version": "3.5.1"
  }
 },
 "nbformat": 4,
 "nbformat_minor": 0
}
