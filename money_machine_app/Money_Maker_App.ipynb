{
 "cells": [
  {
   "cell_type": "markdown",
   "metadata": {},
   "source": [
    "# Money Maker App"
   ]
  },
  {
   "cell_type": "markdown",
   "metadata": {},
   "source": [
    "## Data downloading"
   ]
  },
  {
   "cell_type": "markdown",
   "metadata": {},
   "source": [
    "#### Currencies"
   ]
  },
  {
   "cell_type": "code",
   "execution_count": null,
   "metadata": {},
   "outputs": [],
   "source": [
    "start = '2012-01-01'\n",
    "end = '2017-12-31'\n",
    "currencies = 'EUR;USD;GBP;CHF'\n",
    "\n",
    "# Uncomment line below to download latest exchange rates for currencies\n",
    "#%run downloaders/currency_data_downloader.py $start $end $currencies"
   ]
  },
  {
   "cell_type": "markdown",
   "metadata": {},
   "source": [
    "#### Stock quotes"
   ]
  },
  {
   "cell_type": "code",
   "execution_count": null,
   "metadata": {},
   "outputs": [],
   "source": [
    "start = '2012-01-01'\n",
    "end = '2017-12-31'\n",
    "stock_symbols = 'WIG;KRU;11B;WLT;KGH;URS;LVC'\n",
    "\n",
    "# Uncomment line below to download latest quotes for stocks\n",
    "#%run downloaders/stocks_data_downloader.py $start $end $stock_symbols"
   ]
  },
  {
   "cell_type": "markdown",
   "metadata": {},
   "source": [
    "#### ETFs"
   ]
  },
  {
   "cell_type": "code",
   "execution_count": null,
   "metadata": {},
   "outputs": [],
   "source": [
    "start = '2012-01-01'\n",
    "end = '2017-12-31'\n",
    "eft_symbols = 'ETFW20L.PL;ETFSP500.PL;ETFDAX.PL'\n",
    "\n",
    "# Uncomment line below to download latest quotes for stocks\n",
    "#%run downloaders/stocks_data_downloader.py $start $end $eft_symbols"
   ]
  },
  {
   "cell_type": "markdown",
   "metadata": {},
   "source": [
    "## Data analysis"
   ]
  },
  {
   "cell_type": "markdown",
   "metadata": {},
   "source": [
    "#### Currencies"
   ]
  },
  {
   "cell_type": "code",
   "execution_count": null,
   "metadata": {
    "scrolled": false
   },
   "outputs": [],
   "source": [
    "analysis_type = \"CURRENCY\"\n",
    "currencies_for_analysis = 'EUR;USD;GBP;CHF'\n",
    "\n",
    "%run money_maker_app.py $analysis_type $currencies_for_analysis"
   ]
  },
  {
   "cell_type": "markdown",
   "metadata": {},
   "source": [
    "#### Stocks"
   ]
  },
  {
   "cell_type": "code",
   "execution_count": null,
   "metadata": {
    "scrolled": false
   },
   "outputs": [],
   "source": [
    "analysis_type = \"STOCK\"\n",
    "stocks_for_analysis = 'KRU;11B;WLT;KGH;URS;LVC'\n",
    "\n",
    "%run money_maker_app.py $analysis_type $stocks_for_analysis"
   ]
  },
  {
   "cell_type": "markdown",
   "metadata": {},
   "source": [
    "#### ETFs"
   ]
  },
  {
   "cell_type": "code",
   "execution_count": null,
   "metadata": {
    "scrolled": false
   },
   "outputs": [],
   "source": [
    "analysis_type = \"ETF\"\n",
    "etfs_for_analysis = 'ETFW20L.PL;ETFSP500.PL;ETFDAX.PL'\n",
    "\n",
    "%run money_maker_app.py $analysis_type $etfs_for_analysis"
   ]
  }
 ],
 "metadata": {
  "kernelspec": {
   "display_name": "Python 3",
   "language": "python",
   "name": "python3"
  },
  "language_info": {
   "codemirror_mode": {
    "name": "ipython",
    "version": 3
   },
   "file_extension": ".py",
   "mimetype": "text/x-python",
   "name": "python",
   "nbconvert_exporter": "python",
   "pygments_lexer": "ipython3",
   "version": "3.6.0"
  }
 },
 "nbformat": 4,
 "nbformat_minor": 2
}
